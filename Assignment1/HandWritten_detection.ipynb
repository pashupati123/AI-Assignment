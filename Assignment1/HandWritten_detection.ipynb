{
 "cells": [
  {
   "cell_type": "code",
   "execution_count": 1,
   "metadata": {},
   "outputs": [
    {
     "name": "stderr",
     "output_type": "stream",
     "text": [
      "Using TensorFlow backend.\n"
     ]
    }
   ],
   "source": [
    "import numpy\n",
    "from keras.datasets import mnist\n",
    "from keras.models import Sequential\n",
    "from keras.layers import Dense\n",
    "from keras.utils import np_utils\n",
    "import matplotlib.pyplot as plt"
   ]
  },
  {
   "cell_type": "code",
   "execution_count": 2,
   "metadata": {},
   "outputs": [],
   "source": [
    "seed = 7\n",
    "numpy.random.seed(seed)\n"
   ]
  },
  {
   "cell_type": "code",
   "execution_count": 3,
   "metadata": {},
   "outputs": [],
   "source": [
    "# load data\n",
    "(X_train, y_train), (X_test, y_test) = mnist.load_data()\n"
   ]
  },
  {
   "cell_type": "code",
   "execution_count": 4,
   "metadata": {},
   "outputs": [],
   "source": [
    "num_pixels = X_train.shape[1] * X_train.shape[2]\n",
    "X_train = X_train.reshape(X_train.shape[0], num_pixels).astype('float32')\n",
    "X_test = X_test.reshape(X_test.shape[0], num_pixels).astype('float32')"
   ]
  },
  {
   "cell_type": "code",
   "execution_count": 5,
   "metadata": {},
   "outputs": [],
   "source": [
    "X_train = X_train / 255\n",
    "X_test = X_test / 255"
   ]
  },
  {
   "cell_type": "code",
   "execution_count": 6,
   "metadata": {},
   "outputs": [],
   "source": [
    "y_train = np_utils.to_categorical(y_train)\n",
    "y_test = np_utils.to_categorical(y_test)\n",
    "num_classes = y_test.shape[1]"
   ]
  },
  {
   "cell_type": "code",
   "execution_count": 7,
   "metadata": {},
   "outputs": [],
   "source": [
    "def baseline_model():\n",
    "\t# create model\n",
    "\tmodel = Sequential()\n",
    "\tmodel.add(Dense(num_pixels, input_dim=num_pixels, kernel_initializer='normal', activation='relu'))\n",
    "\tmodel.add(Dense(num_classes, kernel_initializer='normal', activation='softmax'))\n",
    "\t# Compile model\n",
    "\tmodel.compile(loss='categorical_crossentropy', optimizer='adam', metrics=['accuracy'])\n",
    "\treturn model\n"
   ]
  },
  {
   "cell_type": "code",
   "execution_count": 12,
   "metadata": {},
   "outputs": [
    {
     "name": "stdout",
     "output_type": "stream",
     "text": [
      "Train on 60000 samples, validate on 10000 samples\n",
      "Epoch 1/25\n",
      " - 12s - loss: 0.2798 - acc: 0.9203 - val_loss: 0.1399 - val_acc: 0.9568\n",
      "Epoch 2/25\n",
      " - 12s - loss: 0.1118 - acc: 0.9676 - val_loss: 0.0912 - val_acc: 0.9735\n",
      "Epoch 3/25\n",
      " - 12s - loss: 0.0718 - acc: 0.9790 - val_loss: 0.0730 - val_acc: 0.9779\n",
      "Epoch 4/25\n",
      " - 12s - loss: 0.0488 - acc: 0.9861 - val_loss: 0.0659 - val_acc: 0.9792\n",
      "Epoch 5/25\n",
      " - 12s - loss: 0.0364 - acc: 0.9900 - val_loss: 0.0622 - val_acc: 0.9801\n",
      "Epoch 6/25\n",
      " - 11s - loss: 0.0266 - acc: 0.9929 - val_loss: 0.0602 - val_acc: 0.9817\n",
      "Epoch 7/25\n",
      " - 12s - loss: 0.0191 - acc: 0.9954 - val_loss: 0.0635 - val_acc: 0.9797\n",
      "Epoch 8/25\n",
      " - 12s - loss: 0.0150 - acc: 0.9966 - val_loss: 0.0605 - val_acc: 0.9819\n",
      "Epoch 9/25\n",
      " - 12s - loss: 0.0108 - acc: 0.9977 - val_loss: 0.0659 - val_acc: 0.9810\n",
      "Epoch 10/25\n",
      " - 12s - loss: 0.0083 - acc: 0.9985 - val_loss: 0.0587 - val_acc: 0.9820\n",
      "Epoch 11/25\n",
      " - 12s - loss: 0.0061 - acc: 0.9990 - val_loss: 0.0561 - val_acc: 0.9831\n",
      "Epoch 12/25\n",
      " - 12s - loss: 0.0054 - acc: 0.9990 - val_loss: 0.0596 - val_acc: 0.9820\n",
      "Epoch 13/25\n",
      " - 12s - loss: 0.0050 - acc: 0.9990 - val_loss: 0.0657 - val_acc: 0.9820\n",
      "Epoch 14/25\n",
      " - 12s - loss: 0.0035 - acc: 0.9996 - val_loss: 0.0642 - val_acc: 0.9823\n",
      "Epoch 15/25\n",
      " - 12s - loss: 0.0030 - acc: 0.9994 - val_loss: 0.0835 - val_acc: 0.9772\n",
      "Epoch 16/25\n",
      " - 11s - loss: 0.0108 - acc: 0.9967 - val_loss: 0.0684 - val_acc: 0.9823\n",
      "Epoch 17/25\n",
      " - 12s - loss: 0.0042 - acc: 0.9989 - val_loss: 0.0667 - val_acc: 0.9824\n",
      "Epoch 18/25\n",
      " - 12s - loss: 0.0019 - acc: 0.9997 - val_loss: 0.0654 - val_acc: 0.9827\n",
      "Epoch 19/25\n",
      " - 12s - loss: 5.7362e-04 - acc: 1.0000 - val_loss: 0.0640 - val_acc: 0.9831\n",
      "Epoch 20/25\n",
      " - 12s - loss: 3.7554e-04 - acc: 1.0000 - val_loss: 0.0640 - val_acc: 0.9836\n",
      "Epoch 21/25\n",
      " - 11s - loss: 2.9963e-04 - acc: 1.0000 - val_loss: 0.0643 - val_acc: 0.9836\n",
      "Epoch 22/25\n",
      " - 11s - loss: 2.6115e-04 - acc: 1.0000 - val_loss: 0.0652 - val_acc: 0.9835\n",
      "Epoch 23/25\n",
      " - 11s - loss: 2.2560e-04 - acc: 1.0000 - val_loss: 0.0654 - val_acc: 0.9836\n",
      "Epoch 24/25\n",
      " - 11s - loss: 2.0026e-04 - acc: 1.0000 - val_loss: 0.0655 - val_acc: 0.9836\n",
      "Epoch 25/25\n",
      " - 11s - loss: 1.7672e-04 - acc: 1.0000 - val_loss: 0.0664 - val_acc: 0.9841\n",
      "Train on 48000 samples, validate on 12000 samples\n",
      "Epoch 1/10\n",
      "  224/48000 [..............................] - ETA: 34s - loss: 1.9383e-04 - acc: 1.0000"
     ]
    },
    {
     "name": "stderr",
     "output_type": "stream",
     "text": [
      "c:\\python35\\lib\\site-packages\\keras\\models.py:942: UserWarning: The `nb_epoch` argument in `fit` has been renamed `epochs`.\n",
      "  warnings.warn('The `nb_epoch` argument in `fit` '\n"
     ]
    },
    {
     "name": "stdout",
     "output_type": "stream",
     "text": [
      "48000/48000 [==============================] - 37s 762us/step - loss: 0.0549 - acc: 0.9848 - val_loss: 0.0232 - val_acc: 0.9920\n",
      "Epoch 2/10\n",
      "48000/48000 [==============================] - 38s 802us/step - loss: 0.0178 - acc: 0.9936 - val_loss: 0.0248 - val_acc: 0.9927\n",
      "Epoch 3/10\n",
      "48000/48000 [==============================] - 38s 798us/step - loss: 0.0143 - acc: 0.9952 - val_loss: 0.0390 - val_acc: 0.9882\n",
      "Epoch 4/10\n",
      "48000/48000 [==============================] - 38s 795us/step - loss: 0.0139 - acc: 0.9952 - val_loss: 0.0382 - val_acc: 0.9882\n",
      "Epoch 5/10\n",
      "48000/48000 [==============================] - 36s 745us/step - loss: 0.0118 - acc: 0.9961 - val_loss: 0.0440 - val_acc: 0.9867\n",
      "Epoch 6/10\n",
      "48000/48000 [==============================] - 34s 703us/step - loss: 0.0138 - acc: 0.9955 - val_loss: 0.0375 - val_acc: 0.9883\n",
      "Epoch 7/10\n",
      "48000/48000 [==============================] - 36s 749us/step - loss: 0.0104 - acc: 0.9964 - val_loss: 0.0714 - val_acc: 0.9824\n",
      "Epoch 8/10\n",
      "48000/48000 [==============================] - 40s 828us/step - loss: 0.0098 - acc: 0.9966 - val_loss: 0.0646 - val_acc: 0.9835\n",
      "Epoch 9/10\n",
      "48000/48000 [==============================] - 39s 822us/step - loss: 0.0106 - acc: 0.9970 - val_loss: 0.0495 - val_acc: 0.9878\n",
      "Epoch 10/10\n",
      "48000/48000 [==============================] - 39s 811us/step - loss: 0.0086 - acc: 0.9972 - val_loss: 0.0656 - val_acc: 0.9854\n",
      " Error: 1.93%\n",
      "_________________________________________________________________\n",
      "Layer (type)                 Output Shape              Param #   \n",
      "=================================================================\n",
      "dense_5 (Dense)              (None, 784)               615440    \n",
      "_________________________________________________________________\n",
      "dense_6 (Dense)              (None, 10)                7850      \n",
      "=================================================================\n",
      "Total params: 623,290\n",
      "Trainable params: 623,290\n",
      "Non-trainable params: 0\n",
      "_________________________________________________________________\n",
      "None\n"
     ]
    }
   ],
   "source": [
    "model = baseline_model()\n",
    "model.fit(X_train, y_train, validation_data=(X_test, y_test), epochs=25, batch_size=200, verbose=2)\n",
    "history = model.fit(X_train, y_train, nb_epoch=10, validation_split=0.2, shuffle=True)\n",
    "# Final evaluation of the model\n",
    "scores = model.evaluate(X_test, y_test, verbose=0)\n",
    "print(\" Error: %.2f%%\" % (100-scores[1]*100))\n",
    "print(model.summary())\n"
   ]
  },
  {
   "cell_type": "code",
   "execution_count": 13,
   "metadata": {},
   "outputs": [
    {
     "name": "stdout",
     "output_type": "stream",
     "text": [
      "dict_keys(['val_loss', 'loss', 'val_acc', 'acc'])\n"
     ]
    },
    {
     "data": {
      "image/png": "[encoded data removed]",
      "text/plain": [
       "<matplotlib.figure.Figure at 0x1ff04087470>"
      ]
     },
     "metadata": {},
     "output_type": "display_data"
    }
   ],
   "source": [
    "print(history.history.keys())\n",
    "#  \"Accuracy\"\n",
    "plt.plot(history.history['acc'])\n",
    "plt.plot(history.history['val_acc'])\n",
    "plt.title('model accuracy')\n",
    "plt.ylabel('accuracy')\n",
    "plt.xlabel('epoch')\n",
    "plt.legend(['train', 'validation'], loc='upper left')\n",
    "plt.show()"
   ]
  },
  {
   "cell_type": "code",
   "execution_count": 14,
   "metadata": {},
   "outputs": [
    {
     "data": {
      "image/png": "[encoded data removed]",
      "text/plain": [
       "<matplotlib.figure.Figure at 0x1ff04087ef0>"
      ]
     },
     "metadata": {},
     "output_type": "display_data"
    }
   ],
   "source": [
    "plt.plot(history.history['loss'])\n",
    "plt.plot(history.history['val_loss'])\n",
    "plt.title('model loss')\n",
    "plt.ylabel('loss')\n",
    "plt.xlabel('epoch')\n",
    "plt.legend(['train', 'validation'], loc='upper left')\n",
    "plt.show()"
   ]
  },
  {
   "cell_type": "code",
   "execution_count": null,
   "metadata": {},
   "outputs": [],
   "source": []
  }
 ],
 "metadata": {
  "kernelspec": {
   "display_name": "Python 3",
   "language": "python",
   "name": "python3"
  },
  "language_info": {
   "codemirror_mode": {
    "name": "ipython",
    "version": 3
   },
   "file_extension": ".py",
   "mimetype": "text/x-python",
   "name": "python",
   "nbconvert_exporter": "python",
   "pygments_lexer": "ipython3",
   "version": "3.5.4"
  }
 },
 "nbformat": 4,
 "nbformat_minor": 2
}
