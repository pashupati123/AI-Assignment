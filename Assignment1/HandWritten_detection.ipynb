{
 "cells": [
  {
   "cell_type": "code",
   "execution_count": 1,
   "metadata": {},
   "outputs": [
    {
     "name": "stderr",
     "output_type": "stream",
     "text": [
      "Using TensorFlow backend.\n"
     ]
    }
   ],
   "source": [
    "import numpy\n",
    "from keras.datasets import mnist\n",
    "from keras.models import Sequential\n",
    "from keras.layers import Dense\n",
    "from keras.utils import np_utils\n",
    "import matplotlib.pyplot as plt"
   ]
  },
  {
   "cell_type": "code",
   "execution_count": 2,
   "metadata": {},
   "outputs": [],
   "source": [
    "seed = 7\n",
    "numpy.random.seed(seed)\n"
   ]
  },
  {
   "cell_type": "code",
   "execution_count": 3,
   "metadata": {},
   "outputs": [],
   "source": [
    "# load data\n",
    "(X_train, y_train), (X_test, y_test) = mnist.load_data()\n"
   ]
  },
  {
   "cell_type": "code",
   "execution_count": 4,
   "metadata": {},
   "outputs": [],
   "source": [
    "num_pixels = X_train.shape[1] * X_train.shape[2]\n",
    "X_train = X_train.reshape(X_train.shape[0], num_pixels).astype('float32')\n",
    "X_test = X_test.reshape(X_test.shape[0], num_pixels).astype('float32')"
   ]
  },
  {
   "cell_type": "code",
   "execution_count": 5,
   "metadata": {},
   "outputs": [],
   "source": [
    "X_train = X_train / 255\n",
    "X_test = X_test / 255"
   ]
  },
  {
   "cell_type": "code",
   "execution_count": 6,
   "metadata": {},
   "outputs": [],
   "source": [
    "y_train = np_utils.to_categorical(y_train)\n",
    "y_test = np_utils.to_categorical(y_test)\n",
    "num_classes = y_test.shape[1]"
   ]
  },
  {
   "cell_type": "code",
   "execution_count": 7,
   "metadata": {},
   "outputs": [],
   "source": [
    "def baseline_model():\n",
    "\t# create model\n",
    "\tmodel = Sequential()\n",
    "\tmodel.add(Dense(num_pixels, input_dim=num_pixels, kernel_initializer='normal', activation='relu'))\n",
    "\tmodel.add(Dense(num_classes, kernel_initializer='normal', activation='softmax'))\n",
    "\t# Compile model\n",
    "\tmodel.compile(loss='categorical_crossentropy', optimizer='adam', metrics=['accuracy'])\n",
    "\treturn model\n"
   ]
  },
  {
   "cell_type": "code",
   "execution_count": 9,
   "metadata": {},
   "outputs": [
    {
     "name": "stdout",
     "output_type": "stream",
     "text": [
      "Train on 60000 samples, validate on 10000 samples\n",
      "Epoch 1/10\n",
      " - 12s - loss: 0.2820 - acc: 0.9197 - val_loss: 0.1450 - val_acc: 0.9572\n",
      "Epoch 2/10\n",
      " - 13s - loss: 0.1113 - acc: 0.9680 - val_loss: 0.0910 - val_acc: 0.9718\n",
      "Epoch 3/10\n",
      " - 12s - loss: 0.0706 - acc: 0.9792 - val_loss: 0.0961 - val_acc: 0.9690\n",
      "Epoch 4/10\n",
      " - 13s - loss: 0.0500 - acc: 0.9855 - val_loss: 0.0662 - val_acc: 0.9808\n",
      "Epoch 5/10\n",
      " - 12s - loss: 0.0359 - acc: 0.9898 - val_loss: 0.0625 - val_acc: 0.9809\n",
      "Epoch 6/10\n",
      " - 12s - loss: 0.0259 - acc: 0.9934 - val_loss: 0.0590 - val_acc: 0.9807\n",
      "Epoch 7/10\n",
      " - 12s - loss: 0.0200 - acc: 0.9948 - val_loss: 0.0605 - val_acc: 0.9801\n",
      "Epoch 8/10\n",
      " - 12s - loss: 0.0142 - acc: 0.9966 - val_loss: 0.0584 - val_acc: 0.9819\n",
      "Epoch 9/10\n",
      " - 13s - loss: 0.0110 - acc: 0.9977 - val_loss: 0.0589 - val_acc: 0.9819\n",
      "Epoch 10/10\n",
      " - 12s - loss: 0.0078 - acc: 0.9986 - val_loss: 0.0637 - val_acc: 0.9807\n",
      "Train on 48000 samples, validate on 12000 samples\n",
      "Epoch 1/10\n",
      "  160/48000 [..............................] - ETA: 37s - loss: 0.0016 - acc: 1.0000  "
     ]
    },
    {
     "name": "stderr",
     "output_type": "stream",
     "text": [
      "c:\\python35\\lib\\site-packages\\keras\\models.py:942: UserWarning: The `nb_epoch` argument in `fit` has been renamed `epochs`.\n",
      "  warnings.warn('The `nb_epoch` argument in `fit` '\n"
     ]
    },
    {
     "name": "stdout",
     "output_type": "stream",
     "text": [
      "48000/48000 [==============================] - 36s 756us/step - loss: 0.0617 - acc: 0.9795 - val_loss: 0.0371 - val_acc: 0.9885\n",
      "Epoch 2/10\n",
      "48000/48000 [==============================] - 38s 796us/step - loss: 0.0249 - acc: 0.9915 - val_loss: 0.0446 - val_acc: 0.9852\n",
      "Epoch 3/10\n",
      "48000/48000 [==============================] - 39s 803us/step - loss: 0.0175 - acc: 0.9942 - val_loss: 0.0447 - val_acc: 0.9866\n",
      "Epoch 4/10\n",
      "48000/48000 [==============================] - 39s 809us/step - loss: 0.0192 - acc: 0.9936 - val_loss: 0.0505 - val_acc: 0.9854\n",
      "Epoch 5/10\n",
      "48000/48000 [==============================] - 43s 891us/step - loss: 0.0129 - acc: 0.9959 - val_loss: 0.0642 - val_acc: 0.9830\n",
      "Epoch 6/10\n",
      "48000/48000 [==============================] - 43s 904us/step - loss: 0.0142 - acc: 0.9957 - val_loss: 0.0498 - val_acc: 0.9862\n",
      "Epoch 7/10\n",
      "48000/48000 [==============================] - 42s 882us/step - loss: 0.0118 - acc: 0.9962 - val_loss: 0.0603 - val_acc: 0.9846\n",
      "Epoch 8/10\n",
      "48000/48000 [==============================] - 40s 834us/step - loss: 0.0115 - acc: 0.9958 - val_loss: 0.0831 - val_acc: 0.9810\n",
      "Epoch 9/10\n",
      "48000/48000 [==============================] - 41s 856us/step - loss: 0.0096 - acc: 0.9967 - val_loss: 0.0905 - val_acc: 0.9805\n",
      "Epoch 10/10\n",
      "48000/48000 [==============================] - 41s 846us/step - loss: 0.0100 - acc: 0.9968 - val_loss: 0.0902 - val_acc: 0.9818\n",
      " Error: 2.09%\n",
      "_________________________________________________________________\n",
      "Layer (type)                 Output Shape              Param #   \n",
      "=================================================================\n",
      "dense_3 (Dense)              (None, 784)               615440    \n",
      "_________________________________________________________________\n",
      "dense_4 (Dense)              (None, 10)                7850      \n",
      "=================================================================\n",
      "Total params: 623,290\n",
      "Trainable params: 623,290\n",
      "Non-trainable params: 0\n",
      "_________________________________________________________________\n",
      "None\n"
     ]
    }
   ],
   "source": [
    "model = baseline_model()\n",
    "model.fit(X_train, y_train, validation_data=(X_test, y_test), epochs=10, batch_size=200, verbose=2)\n",
    "history = model.fit(X_train, y_train, nb_epoch=10, validation_split=0.2, shuffle=True)\n",
    "# Final evaluation of the model\n",
    "scores = model.evaluate(X_test, y_test, verbose=0)\n",
    "print(\" Error: %.2f%%\" % (100-scores[1]*100))\n",
    "print(model.summary())\n"
   ]
  },
  {
   "cell_type": "code",
   "execution_count": 10,
   "metadata": {},
   "outputs": [
    {
     "name": "stdout",
     "output_type": "stream",
     "text": [
      "dict_keys(['val_loss', 'loss', 'val_acc', 'acc'])\n"
     ]
    },
    {
     "data": {
      "image/png": "[encoded data removed]",
      "text/plain": [
       "<matplotlib.figure.Figure at 0x1ff018cad68>"
      ]
     },
     "metadata": {},
     "output_type": "display_data"
    }
   ],
   "source": [
    "print(history.history.keys())\n",
    "#  \"Accuracy\"\n",
    "plt.plot(history.history['acc'])\n",
    "plt.plot(history.history['val_acc'])\n",
    "plt.title('model accuracy')\n",
    "plt.ylabel('accuracy')\n",
    "plt.xlabel('epoch')\n",
    "plt.legend(['train', 'validation'], loc='upper left')\n",
    "plt.show()"
   ]
  },
  {
   "cell_type": "code",
   "execution_count": 11,
   "metadata": {},
   "outputs": [
    {
     "data": {
      "image/png": "[encoded data removed]",
      "text/plain": [
       "<matplotlib.figure.Figure at 0x1ff7ea9e198>"
      ]
     },
     "metadata": {},
     "output_type": "display_data"
    }
   ],
   "source": [
    "plt.plot(history.history['loss'])\n",
    "plt.plot(history.history['val_loss'])\n",
    "plt.title('model loss')\n",
    "plt.ylabel('loss')\n",
    "plt.xlabel('epoch')\n",
    "plt.legend(['train', 'validation'], loc='upper left')\n",
    "plt.show()"
   ]
  },
  {
   "cell_type": "code",
   "execution_count": null,
   "metadata": {},
   "outputs": [],
   "source": []
  }
 ],
 "metadata": {
  "kernelspec": {
   "display_name": "Python 3",
   "language": "python",
   "name": "python3"
  },
  "language_info": {
   "codemirror_mode": {
    "name": "ipython",
    "version": 3
   },
   "file_extension": ".py",
   "mimetype": "text/x-python",
   "name": "python",
   "nbconvert_exporter": "python",
   "pygments_lexer": "ipython3",
   "version": "3.5.4"
  }
 },
 "nbformat": 4,
 "nbformat_minor": 2
}
